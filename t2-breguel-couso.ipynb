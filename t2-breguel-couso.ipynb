{
 "cells": [
  {
   "cell_type": "markdown",
   "metadata": {},
   "source": [
    "## Iniciar Spark Session"
   ]
  },
  {
   "cell_type": "code",
   "execution_count": 1,
   "metadata": {},
   "outputs": [
    {
     "name": "stderr",
     "output_type": "stream",
     "text": [
      "24/06/16 13:59:40 WARN Utils: Your hostname, tcouso-HP-Pavilion-Laptop-15-cw1xxx resolves to a loopback address: 127.0.1.1; using 192.168.1.94 instead (on interface wlo1)\n",
      "24/06/16 13:59:40 WARN Utils: Set SPARK_LOCAL_IP if you need to bind to another address\n",
      "Setting default log level to \"WARN\".\n",
      "To adjust logging level use sc.setLogLevel(newLevel). For SparkR, use setLogLevel(newLevel).\n",
      "24/06/16 13:59:44 WARN NativeCodeLoader: Unable to load native-hadoop library for your platform... using builtin-java classes where applicable\n"
     ]
    },
    {
     "data": {
      "text/html": [
       "\n",
       "        <div>\n",
       "            <p><b>SparkContext</b></p>\n",
       "\n",
       "            <p><a href=\"http://192.168.1.94:4040\">Spark UI</a></p>\n",
       "\n",
       "            <dl>\n",
       "              <dt>Version</dt>\n",
       "                <dd><code>v3.5.1</code></dd>\n",
       "              <dt>Master</dt>\n",
       "                <dd><code>local[*]</code></dd>\n",
       "              <dt>AppName</dt>\n",
       "                <dd><code>pyspark-shell</code></dd>\n",
       "            </dl>\n",
       "        </div>\n",
       "        "
      ],
      "text/plain": [
       "<SparkContext master=local[*] appName=pyspark-shell>"
      ]
     },
     "execution_count": 1,
     "metadata": {},
     "output_type": "execute_result"
    }
   ],
   "source": [
    "from pyspark.sql import SparkSession\n",
    "\n",
    "spark = SparkSession.builder \\\n",
    "    .getOrCreate()\n",
    "\n",
    "sc = spark.sparkContext\n",
    "sc"
   ]
  },
  {
   "cell_type": "markdown",
   "metadata": {},
   "source": [
    "## Instanciar BBD Neo4j"
   ]
  },
  {
   "cell_type": "code",
   "execution_count": 2,
   "metadata": {},
   "outputs": [],
   "source": [
    "import neo4j\n",
    "from neo4j import GraphDatabase"
   ]
  },
  {
   "cell_type": "code",
   "execution_count": 10,
   "metadata": {},
   "outputs": [
    {
     "name": "stdout",
     "output_type": "stream",
     "text": [
      "Connection to Neo4j established successfully!\n"
     ]
    }
   ],
   "source": [
    "URI = \"bolt://localhost:7687\"\n",
    "AUTH = (\"neo4j\", \"123456789\")\n",
    "\n",
    "driver = GraphDatabase.driver(URI, auth=AUTH)\n",
    "with driver.session() as session:\n",
    "    try:\n",
    "        session.run(\"RETURN 1\")\n",
    "        print(\"Connection to Neo4j established successfully!\")\n",
    "    except Exception as e:\n",
    "        print(f\"Failed to connect to Neo4j: {e}\")"
   ]
  },
  {
   "cell_type": "code",
   "execution_count": 12,
   "metadata": {},
   "outputs": [],
   "source": [
    "def create_graph(tx, graph_data):\n",
    "    # Create nodes\n",
    "    nodes = set()\n",
    "    for start_node, relationship_type, end_node in graph_data:\n",
    "        nodes.add(start_node)\n",
    "        nodes.add(end_node)\n",
    "\n",
    "    for node in nodes:\n",
    "        tx.run(\"MERGE (n:Node {id: $id})\", id=node)\n",
    "\n",
    "    # Create relationships\n",
    "    for start_node, relationship_type, end_node in graph_data:\n",
    "        tx.run(\n",
    "            \"\"\"\n",
    "            MATCH (a:Node {id: $start_id})\n",
    "            MATCH (b:Node {id: $end_id})\n",
    "            MERGE (a)-[r:RELATIONSHIP {type: $type}]->(b)\n",
    "            \"\"\",\n",
    "            start_id=start_node, end_id=end_node, type=relationship_type\n",
    "        )"
   ]
  },
  {
   "cell_type": "code",
   "execution_count": 20,
   "metadata": {},
   "outputs": [],
   "source": [
    "# Example graph data \n",
    "\n",
    "graph_data = [\n",
    "    (1, 11, 2), (1, 11, 3), (2, 11, 3), (3, 11, 2),\n",
    "    (3, 11, 4), (4, 11, 1), (4, 11, 2), (4, 11, 3),\n",
    "    (4, 12, 5), (5, 12, 1), (5, 12, 2), (5, 12, 6)\n",
    "]"
   ]
  },
  {
   "cell_type": "code",
   "execution_count": 13,
   "metadata": {},
   "outputs": [
    {
     "name": "stdout",
     "output_type": "stream",
     "text": [
      "Graph instantiated successfully!\n"
     ]
    }
   ],
   "source": [
    "\n",
    "with driver.session() as session:\n",
    "    try:\n",
    "        session.execute_write(create_graph, graph_data)\n",
    "        print(\"Graph instantiated successfully!\")\n",
    "    except Exception as e:\n",
    "        print(f\"Failed to instantiate the graph: {e}\")"
   ]
  },
  {
   "cell_type": "markdown",
   "metadata": {},
   "source": [
    "## Problema 1\n",
    "\n",
    "Implementa una función que reciba un grafo en Neo4j y genere una RDD con las aristas de ese grafo.\n"
   ]
  },
  {
   "cell_type": "code",
   "execution_count": 40,
   "metadata": {},
   "outputs": [],
   "source": [
    "from collections import namedtuple\n",
    "\n",
    "Edge = namedtuple(\"Edge\", [\"n1\", \"R\", \"n2\" ])"
   ]
  },
  {
   "cell_type": "code",
   "execution_count": 43,
   "metadata": {},
   "outputs": [
    {
     "data": {
      "text/plain": [
       "[Edge(n1=1, R=11, n2=3),\n",
       " Edge(n1=1, R=11, n2=2),\n",
       " Edge(n1=2, R=11, n2=3),\n",
       " Edge(n1=3, R=11, n2=2),\n",
       " Edge(n1=3, R=11, n2=4),\n",
       " Edge(n1=4, R=11, n2=2),\n",
       " Edge(n1=4, R=11, n2=3),\n",
       " Edge(n1=4, R=12, n2=5),\n",
       " Edge(n1=4, R=11, n2=1),\n",
       " Edge(n1=5, R=12, n2=2),\n",
       " Edge(n1=5, R=12, n2=1),\n",
       " Edge(n1=5, R=12, n2=6)]"
      ]
     },
     "execution_count": 43,
     "metadata": {},
     "output_type": "execute_result"
    }
   ],
   "source": [
    "# Get edges from example graph database\n",
    "\n",
    "query = \"\"\"\n",
    "    MATCH (a:Node)-[r:RELATIONSHIP]->(b:Node)\n",
    "    RETURN a.id AS start_node, r.type AS relationship_type, b.id AS end_node\n",
    "    \"\"\"\n",
    "\n",
    "with driver.session() as session:\n",
    "    result = session.run(query)\n",
    "    edges = [Edge(record[\"start_node\"], record[\"relationship_type\"], record[\"end_node\"]) for record in result]\n",
    "\n",
    "# Create rdd from edges\n",
    "\n",
    "graph_rdd = sc.parallelize(edges)\n",
    "\n",
    "graph_rdd.collect()"
   ]
  },
  {
   "cell_type": "markdown",
   "metadata": {},
   "source": [
    "## Problema 2\n",
    "\n",
    "Implementa un programa en PySpark que entregue todos los triángulos (como tuplas de tres nodos) en el grafo usando b3 reducers, donde b es un parámetro. Para esta primera parte puedes asumir que tu grafo solo usa una etiqueta de arista (en el grafo de prueba, esa etiqueta corresponde al numero 11)."
   ]
  },
  {
   "cell_type": "code",
   "execution_count": 58,
   "metadata": {},
   "outputs": [],
   "source": [
    "# Map procedure\n",
    "\n",
    "def hash_node(node_id: int, b: int) -> int:\n",
    "\n",
    "  return hash(node_id) % b\n",
    "\n",
    "\n",
    "def generate_keys(edge, b):\n",
    "\n",
    "  hashed_n1 = hash_node(edge.n1, b)\n",
    "  hashed_n2 = hash_node(edge.n2, b)\n",
    "  \n",
    "  return (((hashed_n1, hashed_n2, i), edge) for i in range(b))"
   ]
  },
  {
   "cell_type": "code",
   "execution_count": 89,
   "metadata": {},
   "outputs": [],
   "source": [
    "b = 10\n",
    "mapped_graph_rdd = graph_rdd.flatMap(lambda edge: generate_keys(edge, b))"
   ]
  },
  {
   "cell_type": "code",
   "execution_count": 90,
   "metadata": {},
   "outputs": [
    {
     "name": "stderr",
     "output_type": "stream",
     "text": [
      "                                                                                \r"
     ]
    },
    {
     "data": {
      "text/plain": [
       "[((1, 3, 0), Edge(n1=1, R=11, n2=3)),\n",
       " ((1, 3, 1), Edge(n1=1, R=11, n2=3)),\n",
       " ((1, 3, 2), Edge(n1=1, R=11, n2=3)),\n",
       " ((1, 3, 3), Edge(n1=1, R=11, n2=3)),\n",
       " ((1, 3, 4), Edge(n1=1, R=11, n2=3)),\n",
       " ((1, 3, 5), Edge(n1=1, R=11, n2=3)),\n",
       " ((1, 3, 6), Edge(n1=1, R=11, n2=3)),\n",
       " ((1, 3, 7), Edge(n1=1, R=11, n2=3)),\n",
       " ((1, 3, 8), Edge(n1=1, R=11, n2=3)),\n",
       " ((1, 3, 9), Edge(n1=1, R=11, n2=3)),\n",
       " ((1, 2, 0), Edge(n1=1, R=11, n2=2)),\n",
       " ((1, 2, 1), Edge(n1=1, R=11, n2=2)),\n",
       " ((1, 2, 2), Edge(n1=1, R=11, n2=2)),\n",
       " ((1, 2, 3), Edge(n1=1, R=11, n2=2)),\n",
       " ((1, 2, 4), Edge(n1=1, R=11, n2=2)),\n",
       " ((1, 2, 5), Edge(n1=1, R=11, n2=2)),\n",
       " ((1, 2, 6), Edge(n1=1, R=11, n2=2)),\n",
       " ((1, 2, 7), Edge(n1=1, R=11, n2=2)),\n",
       " ((1, 2, 8), Edge(n1=1, R=11, n2=2)),\n",
       " ((1, 2, 9), Edge(n1=1, R=11, n2=2)),\n",
       " ((2, 3, 0), Edge(n1=2, R=11, n2=3)),\n",
       " ((2, 3, 1), Edge(n1=2, R=11, n2=3)),\n",
       " ((2, 3, 2), Edge(n1=2, R=11, n2=3)),\n",
       " ((2, 3, 3), Edge(n1=2, R=11, n2=3)),\n",
       " ((2, 3, 4), Edge(n1=2, R=11, n2=3)),\n",
       " ((2, 3, 5), Edge(n1=2, R=11, n2=3)),\n",
       " ((2, 3, 6), Edge(n1=2, R=11, n2=3)),\n",
       " ((2, 3, 7), Edge(n1=2, R=11, n2=3)),\n",
       " ((2, 3, 8), Edge(n1=2, R=11, n2=3)),\n",
       " ((2, 3, 9), Edge(n1=2, R=11, n2=3)),\n",
       " ((3, 2, 0), Edge(n1=3, R=11, n2=2)),\n",
       " ((3, 2, 1), Edge(n1=3, R=11, n2=2)),\n",
       " ((3, 2, 2), Edge(n1=3, R=11, n2=2)),\n",
       " ((3, 2, 3), Edge(n1=3, R=11, n2=2)),\n",
       " ((3, 2, 4), Edge(n1=3, R=11, n2=2)),\n",
       " ((3, 2, 5), Edge(n1=3, R=11, n2=2)),\n",
       " ((3, 2, 6), Edge(n1=3, R=11, n2=2)),\n",
       " ((3, 2, 7), Edge(n1=3, R=11, n2=2)),\n",
       " ((3, 2, 8), Edge(n1=3, R=11, n2=2)),\n",
       " ((3, 2, 9), Edge(n1=3, R=11, n2=2)),\n",
       " ((3, 4, 0), Edge(n1=3, R=11, n2=4)),\n",
       " ((3, 4, 1), Edge(n1=3, R=11, n2=4)),\n",
       " ((3, 4, 2), Edge(n1=3, R=11, n2=4)),\n",
       " ((3, 4, 3), Edge(n1=3, R=11, n2=4)),\n",
       " ((3, 4, 4), Edge(n1=3, R=11, n2=4)),\n",
       " ((3, 4, 5), Edge(n1=3, R=11, n2=4)),\n",
       " ((3, 4, 6), Edge(n1=3, R=11, n2=4)),\n",
       " ((3, 4, 7), Edge(n1=3, R=11, n2=4)),\n",
       " ((3, 4, 8), Edge(n1=3, R=11, n2=4)),\n",
       " ((3, 4, 9), Edge(n1=3, R=11, n2=4)),\n",
       " ((4, 2, 0), Edge(n1=4, R=11, n2=2)),\n",
       " ((4, 2, 1), Edge(n1=4, R=11, n2=2)),\n",
       " ((4, 2, 2), Edge(n1=4, R=11, n2=2)),\n",
       " ((4, 2, 3), Edge(n1=4, R=11, n2=2)),\n",
       " ((4, 2, 4), Edge(n1=4, R=11, n2=2)),\n",
       " ((4, 2, 5), Edge(n1=4, R=11, n2=2)),\n",
       " ((4, 2, 6), Edge(n1=4, R=11, n2=2)),\n",
       " ((4, 2, 7), Edge(n1=4, R=11, n2=2)),\n",
       " ((4, 2, 8), Edge(n1=4, R=11, n2=2)),\n",
       " ((4, 2, 9), Edge(n1=4, R=11, n2=2)),\n",
       " ((4, 3, 0), Edge(n1=4, R=11, n2=3)),\n",
       " ((4, 3, 1), Edge(n1=4, R=11, n2=3)),\n",
       " ((4, 3, 2), Edge(n1=4, R=11, n2=3)),\n",
       " ((4, 3, 3), Edge(n1=4, R=11, n2=3)),\n",
       " ((4, 3, 4), Edge(n1=4, R=11, n2=3)),\n",
       " ((4, 3, 5), Edge(n1=4, R=11, n2=3)),\n",
       " ((4, 3, 6), Edge(n1=4, R=11, n2=3)),\n",
       " ((4, 3, 7), Edge(n1=4, R=11, n2=3)),\n",
       " ((4, 3, 8), Edge(n1=4, R=11, n2=3)),\n",
       " ((4, 3, 9), Edge(n1=4, R=11, n2=3)),\n",
       " ((4, 5, 0), Edge(n1=4, R=12, n2=5)),\n",
       " ((4, 5, 1), Edge(n1=4, R=12, n2=5)),\n",
       " ((4, 5, 2), Edge(n1=4, R=12, n2=5)),\n",
       " ((4, 5, 3), Edge(n1=4, R=12, n2=5)),\n",
       " ((4, 5, 4), Edge(n1=4, R=12, n2=5)),\n",
       " ((4, 5, 5), Edge(n1=4, R=12, n2=5)),\n",
       " ((4, 5, 6), Edge(n1=4, R=12, n2=5)),\n",
       " ((4, 5, 7), Edge(n1=4, R=12, n2=5)),\n",
       " ((4, 5, 8), Edge(n1=4, R=12, n2=5)),\n",
       " ((4, 5, 9), Edge(n1=4, R=12, n2=5)),\n",
       " ((4, 1, 0), Edge(n1=4, R=11, n2=1)),\n",
       " ((4, 1, 1), Edge(n1=4, R=11, n2=1)),\n",
       " ((4, 1, 2), Edge(n1=4, R=11, n2=1)),\n",
       " ((4, 1, 3), Edge(n1=4, R=11, n2=1)),\n",
       " ((4, 1, 4), Edge(n1=4, R=11, n2=1)),\n",
       " ((4, 1, 5), Edge(n1=4, R=11, n2=1)),\n",
       " ((4, 1, 6), Edge(n1=4, R=11, n2=1)),\n",
       " ((4, 1, 7), Edge(n1=4, R=11, n2=1)),\n",
       " ((4, 1, 8), Edge(n1=4, R=11, n2=1)),\n",
       " ((4, 1, 9), Edge(n1=4, R=11, n2=1)),\n",
       " ((5, 2, 0), Edge(n1=5, R=12, n2=2)),\n",
       " ((5, 2, 1), Edge(n1=5, R=12, n2=2)),\n",
       " ((5, 2, 2), Edge(n1=5, R=12, n2=2)),\n",
       " ((5, 2, 3), Edge(n1=5, R=12, n2=2)),\n",
       " ((5, 2, 4), Edge(n1=5, R=12, n2=2)),\n",
       " ((5, 2, 5), Edge(n1=5, R=12, n2=2)),\n",
       " ((5, 2, 6), Edge(n1=5, R=12, n2=2)),\n",
       " ((5, 2, 7), Edge(n1=5, R=12, n2=2)),\n",
       " ((5, 2, 8), Edge(n1=5, R=12, n2=2)),\n",
       " ((5, 2, 9), Edge(n1=5, R=12, n2=2)),\n",
       " ((5, 1, 0), Edge(n1=5, R=12, n2=1)),\n",
       " ((5, 1, 1), Edge(n1=5, R=12, n2=1)),\n",
       " ((5, 1, 2), Edge(n1=5, R=12, n2=1)),\n",
       " ((5, 1, 3), Edge(n1=5, R=12, n2=1)),\n",
       " ((5, 1, 4), Edge(n1=5, R=12, n2=1)),\n",
       " ((5, 1, 5), Edge(n1=5, R=12, n2=1)),\n",
       " ((5, 1, 6), Edge(n1=5, R=12, n2=1)),\n",
       " ((5, 1, 7), Edge(n1=5, R=12, n2=1)),\n",
       " ((5, 1, 8), Edge(n1=5, R=12, n2=1)),\n",
       " ((5, 1, 9), Edge(n1=5, R=12, n2=1)),\n",
       " ((5, 6, 0), Edge(n1=5, R=12, n2=6)),\n",
       " ((5, 6, 1), Edge(n1=5, R=12, n2=6)),\n",
       " ((5, 6, 2), Edge(n1=5, R=12, n2=6)),\n",
       " ((5, 6, 3), Edge(n1=5, R=12, n2=6)),\n",
       " ((5, 6, 4), Edge(n1=5, R=12, n2=6)),\n",
       " ((5, 6, 5), Edge(n1=5, R=12, n2=6)),\n",
       " ((5, 6, 6), Edge(n1=5, R=12, n2=6)),\n",
       " ((5, 6, 7), Edge(n1=5, R=12, n2=6)),\n",
       " ((5, 6, 8), Edge(n1=5, R=12, n2=6)),\n",
       " ((5, 6, 9), Edge(n1=5, R=12, n2=6))]"
      ]
     },
     "execution_count": 90,
     "metadata": {},
     "output_type": "execute_result"
    }
   ],
   "source": [
    "mapped_graph_rdd.collect()"
   ]
  },
  {
   "cell_type": "code",
   "execution_count": 85,
   "metadata": {},
   "outputs": [],
   "source": [
    "# Reduce procedure\n",
    "\n",
    "# Carrousel shift of keys\n",
    "# 1, 2, 3 <-> 2, 3, 1\n",
    " \n",
    "def generate_shifts(key):\n",
    "\n",
    "  b1, b2, b3 = key\n",
    "\n",
    "  return [\n",
    "    (b1, b2, b3),\n",
    "    (b3, b1, b2),\n",
    "    (b2, b3, b1) \n",
    "  ]\n",
    "\n",
    "def map_to_shifts(key_edge_tuple):\n",
    "    \n",
    "  key, edge_value = key_edge_tuple\n",
    "  \n",
    "  return [((shifted_key), edge_value) for shifted_key in generate_shifts(key)]\n",
    "\n",
    "\n",
    "def extract_nodes(edges):\n",
    "\n",
    "  nodes = set()\n",
    "\n",
    "  for edge in edges:\n",
    "      nodes.add(edge.n1)\n",
    "      nodes.add(edge.n2)\n",
    "\n",
    "  return tuple(nodes)\n"
   ]
  },
  {
   "cell_type": "code",
   "execution_count": 102,
   "metadata": {},
   "outputs": [],
   "source": [
    "grouped_rdd = mapped_graph_rdd.flatMap(map_to_shifts).groupByKey()\n",
    "aggregated_rdd = grouped_rdd.mapValues(list)\n",
    "filtered_rdd = aggregated_rdd.filter(lambda x: len(x[1]) == 3)\n",
    "node_sets_rdd = filtered_rdd.mapValues(extract_nodes)\n",
    "queried_triangles = node_sets_rdd.values().distinct()"
   ]
  },
  {
   "cell_type": "code",
   "execution_count": 103,
   "metadata": {},
   "outputs": [
    {
     "name": "stderr",
     "output_type": "stream",
     "text": [
      "                                                                                \r"
     ]
    },
    {
     "data": {
      "text/plain": [
       "[(2, 3, 4), (1, 3, 4)]"
      ]
     },
     "execution_count": 103,
     "metadata": {},
     "output_type": "execute_result"
    }
   ],
   "source": [
    "queried_triangles.collect()"
   ]
  },
  {
   "cell_type": "markdown",
   "metadata": {},
   "source": [
    "## Problema 3\n",
    "\n",
    "Asume ahora que recibes un subgrafo como tres arreglos: un arreglo A con las variables, otro L con los tipos de aristas, y una matriz M de tamaño |A| × |L| × |A| que tiene un uno en la posicion (x, R, y) si y solo si (x, R, y) es una arista de tu subgrafo."
   ]
  },
  {
   "cell_type": "code",
   "execution_count": null,
   "metadata": {},
   "outputs": [],
   "source": []
  },
  {
   "cell_type": "markdown",
   "metadata": {},
   "source": [
    "# Problema 4\n",
    "\n",
    "Implementa un programa en PySpark que reciba un patrón que tiene solo variables, y exactamente cuatro variables, y entregue todos los matches de ese patrón (como tuplas de 4 nodos) en el grafo usando b4 reducers, donde b es un parámetro."
   ]
  },
  {
   "cell_type": "code",
   "execution_count": null,
   "metadata": {},
   "outputs": [],
   "source": []
  },
  {
   "cell_type": "code",
   "execution_count": null,
   "metadata": {},
   "outputs": [],
   "source": [
    "driver.close()"
   ]
  }
 ],
 "metadata": {
  "kernelspec": {
   "display_name": "datos-masivos-env",
   "language": "python",
   "name": "python3"
  },
  "language_info": {
   "codemirror_mode": {
    "name": "ipython",
    "version": 3
   },
   "file_extension": ".py",
   "mimetype": "text/x-python",
   "name": "python",
   "nbconvert_exporter": "python",
   "pygments_lexer": "ipython3",
   "version": "3.10.12"
  }
 },
 "nbformat": 4,
 "nbformat_minor": 2
}
